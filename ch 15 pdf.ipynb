{
 "cells": [
  {
   "cell_type": "code",
   "execution_count": 20,
   "metadata": {},
   "outputs": [
    {
     "name": "stderr",
     "output_type": "stream",
     "text": [
      "PdfReadWarning: Xref table not zero-indexed. ID numbers for objects will be corrected. [pdf.py:1736]\n"
     ]
    }
   ],
   "source": [
    "from PyPDF2 import PdfFileWriter, PdfFileReader\n",
    "import PyPDF2\n",
    "\n",
    "reader = PdfFileReader(open(\"incredible.pdf\",'rb'))\n",
    "writer = PdfFileWriter()\n",
    "\n",
    "for i in range(0,reader.numPages):\n",
    "    page3 = reader.pages[i]\n",
    "    page3.mediaBox.upperRight = (\n",
    "        page3.mediaBox.getUpperRight_x() / 2,\n",
    "        page3.mediaBox.getUpperRight_y(),\n",
    "    )\n",
    "    writer.addPage(page3)\n",
    "\n",
    "# add some Javascript to launch the print window on opening this PDF.\n",
    "# the password dialog may prevent the print dialog from being shown,\n",
    "# comment the the encription lines, if that's the case, to try this out:\n",
    "#writer.add_js(\"this.print({bUI:true,bSilent:false,bShrinkToFit:true});\")\n",
    "\n",
    "# write to document-output.pdf\n",
    "with open(\"1.pdf\", \"wb\") as fp:\n",
    "    writer.write(fp)"
   ]
  },
  {
   "cell_type": "code",
   "execution_count": 8,
   "metadata": {
    "scrolled": true
   },
   "outputs": [
    {
     "data": {
      "text/plain": [
       "'BOARD MINUTES\\n -4- MARCH 7, 2014\\n   5.1.\\n9 On motion of Dr. Miranti, seconded by Mr. Lee, \\nthe Board \\napproved\\n, as a \\nNotice of Intent, revisions to Bulletin 1566, \\nPupil Progression Policies and \\nProcedures\\n:  §503.  Regular Placement\\n, as presented by the LDE\\n.  5.1.\\n10 On motion of Dr. Miranti, seconded by Mr. Lee, \\nthe Board \\napproved\\n, as a \\nNotice of Intent, revisions to Bulletin 111, \\nThe Louisiana School, District, \\nand State Accountability System\\n: §301. School Performance Score Goal; \\n§303. Transition from Fall 2013 to Sp\\nring 2015; §413. Dropout/Credit \\nAccumulation Index Calculations; §517. Inclusion of Schools; §521. \\nPairing/Sharing of Schools with Insufficient Test Data; §603. Determining \\na Cohort for \\na Graduation; §611. Documenting a Graduation Index; \\n§1301. Reward Elig\\nibility; §2301. Schools Requiring \\nReconstitution/Alternate Governance Plans; §3101. Appeals/Waivers and \\nData Certification Processes; §3301. Inclusion of New Schools; §3303. \\nReconfigured Schools; §4101. Valid Data Considerations; §4301. \\nInclusion of All Di\\nstricts; and §4317. District Accountability Data \\nCorrections\\n, as presented by the LDE\\n.  Dr. Beebe was recorded as being opposed to the motion.\\n  5.1.\\n11 On motion of \\nDr. Miranti,\\n seconded by \\nMr. Lee,\\n the Board receive\\nd the \\nSummary of Public Comments and Age\\nncy Response regarding revisions\\n to Bulletin 135, \\nHealth and Safety\\n:  Chapter 5. \\n Injury Management \\nProgram Rules for Serious Sports Injuries and Chapter 7: Glossary, and \\ndirect\\ned BESE staff to pr\\noceed\\n with the final adoption of the January 20, \\n2014, Notic\\ne of Intent regarding revisions to Bulletin 135, \\nHealth and \\nSafety\\n, Chapters 5 and\\n 7.  Agenda\\n Item 5.2.\\n Administration and Finance Committee\\n (Schedule 3)\\n   5.2.\\n1 On motion of \\nMr. Guillot,\\n seconded by \\nMr. Lee\\n, the Board \\nreceived\\n the \\nreport on 8(g) monitor\\ning visits conducted by Board staff.\\n  5.2.\\n2 On motion of Mr. Guillot, seconded by Mr. Lee, \\nthe Board \\nreceived\\n the \\nquarterly report from the LDE Director of Internal Audit.\\n  5.2.\\n3 On motion of Mr. Guillot, seconded by Mr. Lee, \\nthe Board \\nreceived\\n the \\nrepor\\nt on LDE contracts of $50,000 and under approved by the State \\nSuperintendent of Education.\\n  '"
      ]
     },
     "execution_count": 8,
     "metadata": {},
     "output_type": "execute_result"
    }
   ],
   "source": [
    "import PyPDF2\n",
    "pdfFileObj = open('meetingminutes.pdf', 'rb')\n",
    "pdfReader = PyPDF2.PdfFileReader(pdfFileObj)\n",
    "pdfReader.numPages\n",
    "pageObj = pdfReader.getPage(4)\n",
    "pageObj.extractText()"
   ]
  },
  {
   "cell_type": "code",
   "execution_count": 9,
   "metadata": {},
   "outputs": [],
   "source": [
    "import PyPDF2\n",
    "pdf1File = open('meetingminutes.pdf', 'rb')\n",
    "pdf2File = open('nl.pdf', 'rb')\n",
    "pdf1Reader = PyPDF2.PdfFileReader(pdf1File)\n",
    "pdf2Reader = PyPDF2.PdfFileReader(pdf2File)\n",
    "pdfWriter = PyPDF2.PdfFileWriter()\n",
    "\n",
    "for pageNum in range(pdf1Reader.numPages):\n",
    "    pageObj = pdf1Reader.getPage(pageNum)\n",
    "    pdfWriter.addPage(pageObj)\n",
    "\n",
    "for pageNum in range(pdf2Reader.numPages):\n",
    "    pageObj = pdf2Reader.getPage(pageNum)\n",
    "    pdfWriter.addPage(pageObj)\n",
    "\n",
    "pdfOutputFile = open('combinedminutes.pdf', 'wb')\n",
    "pdfWriter.write(pdfOutputFile)\n",
    "pdfOutputFile.close()\n",
    "pdf1File.close()\n",
    "pdf2File.close()"
   ]
  },
  {
   "cell_type": "code",
   "execution_count": 10,
   "metadata": {},
   "outputs": [],
   "source": [
    "import PyPDF2\n",
    "minutesFile = open('nl.pdf', 'rb')\n",
    "pdfReader = PyPDF2.PdfFileReader(minutesFile)\n",
    "minutesFirstPage = pdfReader.getPage(0)\n",
    "pdfWatermarkReader = PyPDF2.PdfFileReader(open('watermark.pdf', 'rb'))\n",
    "minutesFirstPage.mergePage(pdfWatermarkReader.getPage(0))\n",
    "pdfWriter = PyPDF2.PdfFileWriter()\n",
    "pdfWriter.addPage(minutesFirstPage)\n",
    "\n",
    "for pageNum in range(1, pdfReader.numPages):\n",
    "    pageObj = pdfReader.getPage(pageNum)\n",
    "    pdfWriter.addPage(pageObj)\n",
    "\n",
    "    resultPdfFile = open('watermarkedCover.pdf', 'wb')\n",
    "    pdfWriter.write(resultPdfFile)\n",
    "    minutesFile.close()\n",
    "    resultPdfFile.close()"
   ]
  },
  {
   "cell_type": "code",
   "execution_count": 24,
   "metadata": {},
   "outputs": [],
   "source": [
    "pdff = open('nl.pdf', 'rb')\n",
    "pdfr = PyPDF2.PdfFileReader(pdff)\n",
    "pdfw = PyPDF2.PdfFileWriter()\n",
    "for page in range(pdfr.numPages):\n",
    "    pdfw.addPage(pdfr.getPage(page))\n",
    "\n",
    "pdfw.encrypt('goenkaji')\n",
    "res = open('encrypt-nl.pdf', 'wb')\n",
    "pdfw.write(res)\n",
    "res.close()\n",
    "    "
   ]
  },
  {
   "cell_type": "code",
   "execution_count": 28,
   "metadata": {},
   "outputs": [
    {
     "name": "stdout",
     "output_type": "stream",
     "text": [
      "0\n"
     ]
    }
   ],
   "source": [
    "pdf1= open('encrypt-nl.pdf', 'rb')\n",
    "pdfr1 = PyPDF2.PdfFileReader(pdf1)\n",
    "print(pdfr1.decrypt('kaji'))\n"
   ]
  }
 ],
 "metadata": {
  "kernelspec": {
   "display_name": "Python [conda env:root] *",
   "language": "python",
   "name": "conda-root-py"
  },
  "language_info": {
   "codemirror_mode": {
    "name": "ipython",
    "version": 3
   },
   "file_extension": ".py",
   "mimetype": "text/x-python",
   "name": "python",
   "nbconvert_exporter": "python",
   "pygments_lexer": "ipython3",
   "version": "3.7.6"
  }
 },
 "nbformat": 4,
 "nbformat_minor": 4
}
