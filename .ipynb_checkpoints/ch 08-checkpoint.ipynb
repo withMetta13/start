{
 "cells": [
  {
   "cell_type": "code",
   "execution_count": 1,
   "metadata": {
    "scrolled": true
   },
   "outputs": [
    {
     "name": "stdout",
     "output_type": "stream",
     "text": [
      "3\n"
     ]
    },
    {
     "data": {
      "text/plain": [
       "3"
      ]
     },
     "execution_count": 1,
     "metadata": {},
     "output_type": "execute_result"
    }
   ],
   "source": [
    "import pyinputplus as i\n",
    "r = i.inputNum(allowRegexes=[r'\\d+'], blockRegexes=[r'1'])\n",
    "r\n",
    "#help(i.inputNum)\n"
   ]
  },
  {
   "cell_type": "code",
   "execution_count": null,
   "metadata": {},
   "outputs": [],
   "source": [
    "help(i.inputPassword)"
   ]
  },
  {
   "cell_type": "code",
   "execution_count": 8,
   "metadata": {},
   "outputs": [
    {
     "name": "stdout",
     "output_type": "stream",
     "text": [
      "how to keep people busy?no\n"
     ]
    },
    {
     "data": {
      "text/plain": [
       "'no'"
      ]
     },
     "execution_count": 8,
     "metadata": {},
     "output_type": "execute_result"
    }
   ],
   "source": [
    "ans = i.inputYesNo('how to keep people busy?')\n",
    "ans"
   ]
  },
  {
   "cell_type": "code",
   "execution_count": 4,
   "metadata": {},
   "outputs": [
    {
     "name": "stdout",
     "output_type": "stream",
     "text": [
      "1: 6 * 9 = ?9\n",
      "This response is invalid.\n",
      "slow\n"
     ]
    }
   ],
   "source": [
    "import random, time\n",
    "num_of_ques = 10\n",
    "correct = 0\n",
    "for ques in range(1, num_of_ques+1):\n",
    "    num1 = random.randint(0,9)\n",
    "    num2 = random.randint(0,9)\n",
    "    prompt = f'{ques}: {num1} * {num2} = ?'\n",
    "    try:\n",
    "        i.inputStr(prompt, allowRegexes=[f'{num1*num2}'], blockRegexes=['.*'], limit=3,timeout = 2)\n",
    "    except i.RetryLimitException:\n",
    "        print('no more chance')\n",
    "        break\n",
    "    except i.TimeoutException:\n",
    "        print('slow')\n",
    "        break\n",
    "    else:\n",
    "        print('right')"
   ]
  },
  {
   "cell_type": "code",
   "execution_count": 4,
   "metadata": {},
   "outputs": [
    {
     "name": "stdout",
     "output_type": "stream",
     "text": [
      "cheese?yeS\n",
      "Please select one of the following:\n",
      "* wheat\n",
      "* white\n",
      "* sourdough\n",
      "white\n"
     ]
    }
   ],
   "source": [
    "a2 = i.inputYesNo('cheese?')\n",
    "if a2 == 'yes':\n",
    "    a1 = i.inputMenu(['wheat', 'white', 'sourdough'])\n"
   ]
  },
  {
   "cell_type": "code",
   "execution_count": 2,
   "metadata": {},
   "outputs": [
    {
     "name": "stdout",
     "output_type": "stream",
     "text": [
      "1: 5 * 6 = ?30\n",
      "correct\n",
      "2: 3 * 7 = ?21\n",
      "correct\n"
     ]
    }
   ],
   "source": [
    "import random, time\n",
    "num_of_ques = 2\n",
    "correct = 0\n",
    "for ques in range(1, num_of_ques+1):\n",
    "    num1 = random.randint(0,9)\n",
    "    num2 = random.randint(0,9)\n",
    "    prompt = f'{ques}: {num1} * {num2} = ?'\n",
    "    for t in range(3):\n",
    "        ans = input(prompt)\n",
    "        if int(ans) == num1 * num2:\n",
    "            print('correct')\n",
    "            correct += 1\n",
    "            break\n",
    "        else:\n",
    "            print('wrong')\n",
    "        \n"
   ]
  }
 ],
 "metadata": {
  "kernelspec": {
   "display_name": "Python [conda env:root] *",
   "language": "python",
   "name": "conda-root-py"
  },
  "language_info": {
   "codemirror_mode": {
    "name": "ipython",
    "version": 3
   },
   "file_extension": ".py",
   "mimetype": "text/x-python",
   "name": "python",
   "nbconvert_exporter": "python",
   "pygments_lexer": "ipython3",
   "version": "3.7.6"
  }
 },
 "nbformat": 4,
 "nbformat_minor": 4
}
