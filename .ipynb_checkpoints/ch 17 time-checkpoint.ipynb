{
 "cells": [
  {
   "cell_type": "code",
   "execution_count": 17,
   "metadata": {},
   "outputs": [
    {
     "name": "stdout",
     "output_type": "stream",
     "text": [
      "333328333350001\n"
     ]
    },
    {
     "data": {
      "text/plain": [
       "'Thu Jul 14 16:34:56 2022'"
      ]
     },
     "execution_count": 17,
     "metadata": {},
     "output_type": "execute_result"
    }
   ],
   "source": [
    "import time\n",
    "def calc():\n",
    "    product = 1\n",
    "    for i in range(100000):\n",
    "        product = product+i**2\n",
    "    print(product)\n",
    "    \n",
    "s = time.time()\n",
    "calc()\n",
    "e = time.time()\n",
    "e-s\n",
    "time.ctime()"
   ]
  },
  {
   "cell_type": "code",
   "execution_count": 9,
   "metadata": {},
   "outputs": [
    {
     "name": "stdout",
     "output_type": "stream",
     "text": [
      "\n",
      "\n",
      "Lap 1 costs:                                   0.474 seconds\n",
      "Lap 2 costs:                                   0.443 seconds\n",
      "Lap 3 costs:                                   0.354 seconds\n",
      "Lap 4 costs:                                   0.164 seconds\n",
      "Lap 5 costs:                                   0.158 seconds\n",
      "Lap 6 costs:                                   0.152 seconds\n",
      "Lap 7 costs:                                   0.142 seconds\n",
      "Lap 8 costs:                                   0.152 seconds\n",
      "Lap 9 costs:                                    0.15 seconds\n",
      "Lap 10 costs:                                  0.147 seconds\n",
      "Lap 11 costs:                                   0.15 secondsq\n"
     ]
    }
   ],
   "source": [
    "import time, pyperclip\n",
    "\n",
    "t=[]\n",
    "input()\n",
    "start = time.time()\n",
    "input()\n",
    "last = time.time()\n",
    "s = f'Lap 1 costs: '.ljust(30)+f'{round(last-start, 3)} seconds'.rjust(30)\n",
    "print(f'Lap 1 costs: '.ljust(30),end='')\n",
    "print(f'{round(last-start, 3)} seconds'.rjust(30),end='')\n",
    "t.append(s)\n",
    "\n",
    "try:\n",
    "    count = 2\n",
    "    while True:\n",
    "        i = input()\n",
    "        if i == 'q':\n",
    "            break\n",
    "        now = time.time()\n",
    "        s = f'Lap {count} costs: '.ljust(30)+f'{round(now-last, 3)} seconds'.rjust(30)\n",
    "        t.append(s)\n",
    "        print(f'Lap {count} costs: '.ljust(30),end='')\n",
    "        print(f'{round(now-last, 3)} seconds'.rjust(30),end='')\n",
    "        last = now\n",
    "        count += 1\n",
    "\n",
    "except:\n",
    "    print('keyboard interrupt')\n",
    "    \n",
    "pyperclip.copy('\\n'.join(t))\n"
   ]
  },
  {
   "cell_type": "code",
   "execution_count": 8,
   "metadata": {},
   "outputs": [
    {
     "data": {
      "text/plain": [
       "datetime.datetime(1970, 2, 9, 2, 33, 21)"
      ]
     },
     "execution_count": 8,
     "metadata": {},
     "output_type": "execute_result"
    }
   ],
   "source": [
    "import datetime\n",
    "n = datetime.datetime.now()\n",
    "datetime.datetime.fromtimestamp(3350001)"
   ]
  },
  {
   "cell_type": "code",
   "execution_count": 24,
   "metadata": {},
   "outputs": [
    {
     "data": {
      "text/plain": [
       "datetime.datetime(2019, 1, 1, 0, 0)"
      ]
     },
     "execution_count": 24,
     "metadata": {},
     "output_type": "execute_result"
    }
   ],
   "source": [
    "delta = datetime.timedelta(days =11)\n",
    "delta.days\n",
    "delta.total_seconds()\n",
    "str(delta)\n",
    "n.strftime('%a %y %I')\n",
    "\n",
    "datetime.datetime.strptime('2019/1/1', '%Y/%m/%d')"
   ]
  },
  {
   "cell_type": "code",
   "execution_count": 18,
   "metadata": {},
   "outputs": [
    {
     "name": "stdout",
     "output_type": "stream",
     "text": [
      "yes\n",
      "yes\n",
      "yes\n",
      "yes\n",
      "yes\n"
     ]
    },
    {
     "ename": "KeyboardInterrupt",
     "evalue": "",
     "output_type": "error",
     "traceback": [
      "\u001b[1;31m---------------------------------------------------------------------------\u001b[0m",
      "\u001b[1;31mKeyboardInterrupt\u001b[0m                         Traceback (most recent call last)",
      "\u001b[1;32m<ipython-input-18-021a092b4792>\u001b[0m in \u001b[0;36m<module>\u001b[1;34m\u001b[0m\n\u001b[0;32m      1\u001b[0m \u001b[1;32mwhile\u001b[0m \u001b[0mdatetime\u001b[0m\u001b[1;33m.\u001b[0m\u001b[0mdatetime\u001b[0m\u001b[1;33m.\u001b[0m\u001b[0mnow\u001b[0m\u001b[1;33m(\u001b[0m\u001b[1;33m)\u001b[0m \u001b[1;33m>\u001b[0m \u001b[0mn\u001b[0m\u001b[1;33m:\u001b[0m\u001b[1;33m\u001b[0m\u001b[1;33m\u001b[0m\u001b[0m\n\u001b[1;32m----> 2\u001b[1;33m     \u001b[0mtime\u001b[0m\u001b[1;33m.\u001b[0m\u001b[0msleep\u001b[0m\u001b[1;33m(\u001b[0m\u001b[1;36m1\u001b[0m\u001b[1;33m)\u001b[0m\u001b[1;33m\u001b[0m\u001b[1;33m\u001b[0m\u001b[0m\n\u001b[0m\u001b[0;32m      3\u001b[0m     \u001b[0mprint\u001b[0m\u001b[1;33m(\u001b[0m\u001b[1;34m'yes'\u001b[0m\u001b[1;33m)\u001b[0m\u001b[1;33m\u001b[0m\u001b[1;33m\u001b[0m\u001b[0m\n",
      "\u001b[1;31mKeyboardInterrupt\u001b[0m: "
     ]
    }
   ],
   "source": [
    "while datetime.datetime.now() > n:\n",
    "    time.sleep(1)\n",
    "    print('yes')"
   ]
  },
  {
   "cell_type": "code",
   "execution_count": 25,
   "metadata": {},
   "outputs": [
    {
     "name": "stdout",
     "output_type": "stream",
     "text": [
      "start\n",
      "end\n",
      "wake up\n"
     ]
    }
   ],
   "source": [
    "import threading\n",
    "print('start')\n",
    "\n",
    "def nap():\n",
    "    time.sleep(5)\n",
    "    print('wake up')\n",
    "\n",
    "t = threading.Thread(target=nap)\n",
    "t.start()\n",
    "\n",
    "print('end')"
   ]
  },
  {
   "cell_type": "code",
   "execution_count": 26,
   "metadata": {
    "scrolled": true
   },
   "outputs": [
    {
     "name": "stdout",
     "output_type": "stream",
     "text": [
      "cats&&&dogs\n"
     ]
    }
   ],
   "source": [
    "t = threading.Thread(target=print, args=['cats','dogs'], kwargs={'sep':'&&&'})\n",
    "t.start()"
   ]
  },
  {
   "cell_type": "code",
   "execution_count": 31,
   "metadata": {},
   "outputs": [
    {
     "name": "stdout",
     "output_type": "stream",
     "text": [
      "Downloading page 1...\n",
      "Downloading page 10...\n",
      "Downloading page 20...Downloading page 30...\n",
      "\n",
      "Downloading image https://imgs.xkcd.com/comics/pi.jpg...\n",
      "Downloading page 11...\n",
      "Downloading image https://imgs.xkcd.com/comics/barrel_cropped_(1).jpg...\n",
      "Downloading image https://imgs.xkcd.com/comics/donner.jpg...\n",
      "Downloading image https://imgs.xkcd.com/comics/ferret.jpg...\n",
      "Downloading image https://imgs.xkcd.com/comics/barrel_mommies.jpg...\n",
      "Downloading page 31...\n",
      "Downloading page 2...\n",
      "Downloading image https://imgs.xkcd.com/comics/barrel_part_5.jpg...\n",
      "Downloading page 12...\n",
      "Downloading image https://imgs.xkcd.com/comics/tree_cropped_(1).jpg...\n",
      "Downloading page 32...\n",
      "Downloading page 3...\n",
      "Downloading image https://imgs.xkcd.com/comics/poisson.jpg...\n",
      "Downloading image https://imgs.xkcd.com/comics/pillar.jpg...\n",
      "Downloading page 21...\n",
      "Downloading page 33...\n",
      "Downloading image https://imgs.xkcd.com/comics/island_color.jpg...\n",
      "Downloading image https://imgs.xkcd.com/comics/self-reference.jpg...\n",
      "Downloading image https://imgs.xkcd.com/comics/kepler.jpg...\n",
      "Downloading page 4...\n",
      "Downloading page 22...\n",
      "Downloading image https://imgs.xkcd.com/comics/barrel_whirlpool.jpg...\n",
      "Downloading page 34...\n",
      "Downloading image https://imgs.xkcd.com/comics/landscape_cropped_(1).jpg...\n",
      "Downloading page 23...\n",
      "Downloading image https://imgs.xkcd.com/comics/flowers.jpg...\n",
      "Downloading page 13...\n",
      "Downloading image https://imgs.xkcd.com/comics/t-shirts.jpg...\n",
      "Downloading image https://imgs.xkcd.com/comics/canyon_small.jpg...\n",
      "Downloading page 35...\n",
      "Downloading page 14...\n",
      "Downloading page 24...\n",
      "Downloading image https://imgs.xkcd.com/comics/copyright.jpg...\n",
      "Downloading page 5...\n",
      "Downloading image https://imgs.xkcd.com/comics/sheep.jpg...\n",
      "Downloading image https://imgs.xkcd.com/comics/godel_escher_kurthalsey.jpg...\n",
      "Downloading image https://imgs.xkcd.com/comics/blownapart_color.jpg...\n",
      "Downloading page 15...\n",
      "Downloading page 36...\n",
      "Downloading image https://imgs.xkcd.com/comics/just_alerting_you.jpg...\n",
      "Downloading page 6...\n",
      "Downloading image https://imgs.xkcd.com/comics/scientists.jpg...\n",
      "Downloading page 16...\n",
      "Downloading image https://imgs.xkcd.com/comics/irony_color.jpg...\n",
      "Downloading image https://imgs.xkcd.com/comics/monty_python.jpg...\n",
      "Downloading page 7...\n",
      "Downloading page 37...\n",
      "Downloading page 17...\n",
      "Downloading image https://imgs.xkcd.com/comics/what_if.jpg...\n",
      "Downloading image https://imgs.xkcd.com/comics/girl_sleeping_noline_(1).jpg...\n",
      "Downloading image https://imgs.xkcd.com/comics/hyphen.jpg...\n",
      "Downloading page 8...\n",
      "Downloading page 38...\n",
      "Downloading page 18...\n",
      "Downloading image https://imgs.xkcd.com/comics/apple_jacks.jpg...\n",
      "Downloading image https://imgs.xkcd.com/comics/red_spiders_small.jpg...\n",
      "Downloading page 25...\n",
      "Downloading image https://imgs.xkcd.com/comics/barrel_part_4.jpg...\n",
      "Downloading image https://imgs.xkcd.com/comics/snapple.jpg...\n",
      "Downloading page 26...\n",
      "Downloading image https://imgs.xkcd.com/comics/fourier.jpg...\n",
      "Downloading page 27...\n",
      "Downloading image https://imgs.xkcd.com/comics/meat_cereals.jpg...\n",
      "Downloading page 28...\n",
      "Downloading image https://imgs.xkcd.com/comics/elefino.jpg...\n",
      "done\n"
     ]
    }
   ],
   "source": [
    "\n",
    "import requests, os, bs4, threading\n",
    "\n",
    "url = 'https://xkcd.com' # starting url\n",
    "os.makedirs('xkcd', exist_ok=True) # store comics in ./xkcd\n",
    "\n",
    "def downloadxkcd(start, end):\n",
    "    for urlnumber in range(start, end):\n",
    "        print('Downloading page %s...' % urlnumber)\n",
    "        res = requests.get(url+f'/{urlnumber}')\n",
    "        res.raise_for_status()\n",
    "\n",
    "        soup = bs4.BeautifulSoup(res.text, 'html.parser')\n",
    "\n",
    "    # Find the URL of the comic image.\n",
    "        comicElem = soup.select('#comic img')\n",
    "        if comicElem == []:\n",
    "            print('Could not find comic image.')\n",
    "        else:\n",
    "            comicUrl = 'https:' + comicElem[0].get('src')\n",
    "        # Download the image.\n",
    "            print('Downloading image %s...' % (comicUrl))\n",
    "            res = requests.get(comicUrl)\n",
    "            res.raise_for_status()\n",
    "\n",
    "        # Save the image to ./xkcd.\n",
    "            imageFile = open(os.path.join('xkcd', os.path.basename(comicUrl)), 'wb')\n",
    "            for chunk in res.iter_content(100000):\n",
    "                imageFile.write(chunk)\n",
    "            imageFile.close()\n",
    "\n",
    "            \n",
    "downloadthreads = []\n",
    "for i in range(0,40,10):\n",
    "    start = i\n",
    "    end = i+9\n",
    "    if start == 0:\n",
    "        start = 1\n",
    "    downloadthread = threading.Thread(target = downloadxkcd,args=(start,end))\n",
    "    downloadthreads.append(downloadthread)\n",
    "    downloadthread.start()\n",
    "\n",
    "for downloadthread in downloadthreads:\n",
    "    downloadthread.join()\n",
    "print('done')"
   ]
  },
  {
   "cell_type": "code",
   "execution_count": 46,
   "metadata": {},
   "outputs": [],
   "source": [
    "import subprocess\n",
    "p = subprocess.Popen('C:\\Program Files\\Bandizip\\Bandizip.exe')\n"
   ]
  },
  {
   "cell_type": "code",
   "execution_count": 49,
   "metadata": {},
   "outputs": [
    {
     "data": {
      "text/plain": [
       "0"
      ]
     },
     "execution_count": 49,
     "metadata": {},
     "output_type": "execute_result"
    }
   ],
   "source": [
    "p.poll()"
   ]
  },
  {
   "cell_type": "code",
   "execution_count": 56,
   "metadata": {},
   "outputs": [
    {
     "data": {
      "text/plain": [
       "<subprocess.Popen at 0x2685788e648>"
      ]
     },
     "execution_count": 56,
     "metadata": {},
     "output_type": "execute_result"
    }
   ],
   "source": [
    "subprocess.Popen(['C:\\\\windows\\\\notepad.exe', '.\\\\vipa.txt'])"
   ]
  },
  {
   "cell_type": "code",
   "execution_count": 57,
   "metadata": {},
   "outputs": [
    {
     "data": {
      "text/plain": [
       "<subprocess.Popen at 0x2685788e2c8>"
      ]
     },
     "execution_count": 57,
     "metadata": {},
     "output_type": "execute_result"
    }
   ],
   "source": [
    "fileObj = open('hello.txt', 'w')\n",
    "fileObj.write('Hello, world!')\n",
    "fileObj.close()\n",
    "subprocess.Popen(['start', 'hello.txt'], shell=True)"
   ]
  },
  {
   "cell_type": "code",
   "execution_count": null,
   "metadata": {},
   "outputs": [],
   "source": [
    "\n",
    "\n",
    "\n",
    "\n",
    "\n",
    "\n",
    "\n",
    "\n",
    "\n",
    "\n",
    "\n",
    "\n",
    "\n",
    "\n",
    "\n",
    "\n",
    "\n",
    "\n",
    "\n",
    "\n",
    "\n",
    "\n",
    "\n",
    "\n",
    "\n",
    "\n",
    "\n",
    "\n",
    "\n",
    "\n"
   ]
  }
 ],
 "metadata": {
  "kernelspec": {
   "display_name": "Python [conda env:root] *",
   "language": "python",
   "name": "conda-root-py"
  },
  "language_info": {
   "codemirror_mode": {
    "name": "ipython",
    "version": 3
   },
   "file_extension": ".py",
   "mimetype": "text/x-python",
   "name": "python",
   "nbconvert_exporter": "python",
   "pygments_lexer": "ipython3",
   "version": "3.7.6"
  }
 },
 "nbformat": 4,
 "nbformat_minor": 4
}
