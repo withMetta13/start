{
 "cells": [
  {
   "cell_type": "code",
   "execution_count": 3,
   "metadata": {},
   "outputs": [
    {
     "data": {
      "text/plain": [
       "pathlib.WindowsPath"
      ]
     },
     "execution_count": 3,
     "metadata": {},
     "output_type": "execute_result"
    }
   ],
   "source": [
    "from pathlib import Path\n",
    "import sys, os\n",
    "a = Path('spam', 'bacon', 'eggs')\n",
    "type(a)"
   ]
  },
  {
   "cell_type": "code",
   "execution_count": 24,
   "metadata": {},
   "outputs": [
    {
     "name": "stdout",
     "output_type": "stream",
     "text": [
      "c:\\users\\cc.txt\n",
      "eggs\\bacon\\spam\n"
     ]
    }
   ],
   "source": [
    "print(Path('c:/users', 'cc.txt'))\n",
    "print('eggs'/Path('bacon')/'spam')\n",
    "Path.cwd()\n",
    "os.makedirs(r'c:/users/bill/aaa/haha/ex')"
   ]
  },
  {
   "cell_type": "code",
   "execution_count": 31,
   "metadata": {},
   "outputs": [
    {
     "data": {
      "text/plain": [
       "'..\\\\d.tt'"
      ]
     },
     "execution_count": 31,
     "metadata": {},
     "output_type": "execute_result"
    }
   ],
   "source": [
    "os.path.abspath('d.txt')\n",
    "os.path.relpath('d.tt','c:/users')"
   ]
  },
  {
   "cell_type": "code",
   "execution_count": 36,
   "metadata": {},
   "outputs": [
    {
     "name": "stdout",
     "output_type": "stream",
     "text": [
      "212918245\n"
     ]
    }
   ],
   "source": [
    "totalSize = 0\n",
    "for name in os.listdir(Path('c:/users/bill')):\n",
    "    totalSize = totalSize + os.path.getsize(os.path.join('c:/users/bill',name))\n",
    "print(totalSize)"
   ]
  },
  {
   "cell_type": "code",
   "execution_count": 38,
   "metadata": {},
   "outputs": [
    {
     "data": {
      "text/plain": [
       "[WindowsPath('c:/users/bill/.astropy'),\n",
       " WindowsPath('c:/users/bill/.bash_history'),\n",
       " WindowsPath('c:/users/bill/.conda'),\n",
       " WindowsPath('c:/users/bill/.condarc'),\n",
       " WindowsPath('c:/users/bill/.config'),\n",
       " WindowsPath('c:/users/bill/.gitconfig'),\n",
       " WindowsPath('c:/users/bill/.ipynb_checkpoints'),\n",
       " WindowsPath('c:/users/bill/.ipython'),\n",
       " WindowsPath('c:/users/bill/.jupyter'),\n",
       " WindowsPath('c:/users/bill/.matplotlib'),\n",
       " WindowsPath('c:/users/bill/.python_history'),\n",
       " WindowsPath('c:/users/bill/.vscode'),\n",
       " WindowsPath('c:/users/bill/3D Objects'),\n",
       " WindowsPath('c:/users/bill/AppData'),\n",
       " WindowsPath('c:/users/bill/Application Data'),\n",
       " WindowsPath('c:/users/bill/battery-report.html'),\n",
       " WindowsPath('c:/users/bill/CMB'),\n",
       " WindowsPath('c:/users/bill/Contacts'),\n",
       " WindowsPath('c:/users/bill/Cookies'),\n",
       " WindowsPath('c:/users/bill/Desktop'),\n",
       " WindowsPath('c:/users/bill/Documents'),\n",
       " WindowsPath('c:/users/bill/Downloads'),\n",
       " WindowsPath('c:/users/bill/Favorites'),\n",
       " WindowsPath('c:/users/bill/learn.ipynb'),\n",
       " WindowsPath('c:/users/bill/Links'),\n",
       " WindowsPath('c:/users/bill/Local Settings'),\n",
       " WindowsPath('c:/users/bill/MicrosoftEdgeBackups'),\n",
       " WindowsPath('c:/users/bill/Music'),\n",
       " WindowsPath('c:/users/bill/My Documents'),\n",
       " WindowsPath('c:/users/bill/NetHood'),\n",
       " WindowsPath('c:/users/bill/NTUSER.DAT'),\n",
       " WindowsPath('c:/users/bill/ntuser.dat.LOG1'),\n",
       " WindowsPath('c:/users/bill/ntuser.dat.LOG2'),\n",
       " WindowsPath('c:/users/bill/NTUSER.DAT{ef1cebad-92b4-11ec-adf0-005056c00008}.TM.blf'),\n",
       " WindowsPath('c:/users/bill/NTUSER.DAT{ef1cebad-92b4-11ec-adf0-005056c00008}.TMContainer00000000000000000001.regtrans-ms'),\n",
       " WindowsPath('c:/users/bill/NTUSER.DAT{ef1cebad-92b4-11ec-adf0-005056c00008}.TMContainer00000000000000000002.regtrans-ms'),\n",
       " WindowsPath('c:/users/bill/ntuser.ini'),\n",
       " WindowsPath('c:/users/bill/numpy-1.16.4+mkl-cp37-cp37m-win_amd64.whl'),\n",
       " WindowsPath('c:/users/bill/OneDrive'),\n",
       " WindowsPath('c:/users/bill/PCManger'),\n",
       " WindowsPath('c:/users/bill/Pictures'),\n",
       " WindowsPath('c:/users/bill/PrintHood'),\n",
       " WindowsPath('c:/users/bill/PycharmProjects'),\n",
       " WindowsPath('c:/users/bill/Recent'),\n",
       " WindowsPath('c:/users/bill/Saved Games'),\n",
       " WindowsPath('c:/users/bill/seaborn-data'),\n",
       " WindowsPath('c:/users/bill/Searches'),\n",
       " WindowsPath('c:/users/bill/SendTo'),\n",
       " WindowsPath('c:/users/bill/temp'),\n",
       " WindowsPath('c:/users/bill/Templates'),\n",
       " WindowsPath('c:/users/bill/test.ipynb'),\n",
       " WindowsPath('c:/users/bill/UIDowner'),\n",
       " WindowsPath('c:/users/bill/Videos'),\n",
       " WindowsPath('c:/users/bill/WeChatProjects'),\n",
       " WindowsPath('c:/users/bill/Yinxiang Biji'),\n",
       " WindowsPath('c:/users/bill/「开始」菜单')]"
      ]
     },
     "execution_count": 38,
     "metadata": {},
     "output_type": "execute_result"
    }
   ],
   "source": [
    "p = Path('c:/users/bill')\n",
    "list(p.glob('*'))"
   ]
  },
  {
   "cell_type": "code",
   "execution_count": 1,
   "metadata": {},
   "outputs": [
    {
     "ename": "NameError",
     "evalue": "name 'os' is not defined",
     "output_type": "error",
     "traceback": [
      "\u001b[1;31m---------------------------------------------------------------------------\u001b[0m",
      "\u001b[1;31mNameError\u001b[0m                                 Traceback (most recent call last)",
      "\u001b[1;32m<ipython-input-1-70ed7c3231bc>\u001b[0m in \u001b[0;36m<module>\u001b[1;34m\u001b[0m\n\u001b[1;32m----> 1\u001b[1;33m \u001b[0mos\u001b[0m\u001b[1;33m.\u001b[0m\u001b[0mchdir\u001b[0m\u001b[1;33m(\u001b[0m\u001b[1;34mr'd:/notebooks/00reference/06automate the boring stuff with python'\u001b[0m\u001b[1;33m)\u001b[0m\u001b[1;33m\u001b[0m\u001b[1;33m\u001b[0m\u001b[0m\n\u001b[0m\u001b[0;32m      2\u001b[0m \u001b[0mPath\u001b[0m\u001b[1;33m.\u001b[0m\u001b[0mcwd\u001b[0m\u001b[1;33m(\u001b[0m\u001b[1;33m)\u001b[0m\u001b[1;33m\u001b[0m\u001b[1;33m\u001b[0m\u001b[0m\n",
      "\u001b[1;31mNameError\u001b[0m: name 'os' is not defined"
     ]
    }
   ],
   "source": [
    "os.chdir(r'd:/notebooks/00reference/06automate the boring stuff with python')\n",
    "Path.cwd()\n",
    "p = Path('./bb.txt')\n",
    "p.write_text('hello\\nfff\\nddd')\n",
    "p.read_text()"
   ]
  },
  {
   "cell_type": "code",
   "execution_count": 62,
   "metadata": {},
   "outputs": [
    {
     "data": {
      "text/plain": [
       "['hello\\n', 'fff\\n', 'ddd']"
      ]
     },
     "execution_count": 62,
     "metadata": {},
     "output_type": "execute_result"
    }
   ],
   "source": [
    "hello = open('bb.txt')\n",
    "hello.readlines()"
   ]
  },
  {
   "cell_type": "code",
   "execution_count": 86,
   "metadata": {},
   "outputs": [],
   "source": [
    "import shelve\n",
    "shelf = shelve.open('data')\n",
    "cats = ('a', 'b', 'c')\n",
    "shelf['cats'] = cats\n",
    "shelf.close()"
   ]
  },
  {
   "cell_type": "code",
   "execution_count": 73,
   "metadata": {},
   "outputs": [
    {
     "data": {
      "text/plain": [
       "[('a', 'b', 'c')]"
      ]
     },
     "execution_count": 73,
     "metadata": {},
     "output_type": "execute_result"
    }
   ],
   "source": [
    "shelf = shelve.open('data')\n",
    "list(shelf.keys())\n",
    "list(shelf.values())\n",
    "#shelf.close()"
   ]
  },
  {
   "cell_type": "code",
   "execution_count": 80,
   "metadata": {},
   "outputs": [],
   "source": [
    "import pprint\n",
    "cats = [{'name': 'Zophie', 'desc': 'chubby'}, {'name': 'Pooka', 'desc': 'fluffy'}]\n",
    "\n",
    "file = open('cats.py', 'w')\n",
    "file.write('cats = '+pprint.pformat(cats)+'\\n')\n",
    "file.close()"
   ]
  },
  {
   "cell_type": "code",
   "execution_count": 84,
   "metadata": {},
   "outputs": [
    {
     "data": {
      "text/plain": [
       "'Zophie'"
      ]
     },
     "execution_count": 84,
     "metadata": {},
     "output_type": "execute_result"
    }
   ],
   "source": [
    "import cats\n",
    "cats.cats[0]['name']"
   ]
  },
  {
   "cell_type": "code",
   "execution_count": 17,
   "metadata": {},
   "outputs": [
    {
     "name": "stdout",
     "output_type": "stream",
     "text": [
      "quiz1.txt\n",
      "quiz2.txt\n",
      "quiz3.txt\n"
     ]
    }
   ],
   "source": [
    "import random\n",
    "capitals = {'Alabama': 'Montgomery', 'Alaska': 'Juneau', 'Arizona': 'Phoenix',\n",
    "   'Arkansas': 'Little Rock', 'California': 'Sacramento', 'Colorado': 'Denver',\n",
    "   'Connecticut': 'Hartford', 'Delaware': 'Dover', 'Florida': 'Tallahassee',\n",
    "   'Georgia': 'Atlanta', 'Hawaii': 'Honolulu', 'Idaho': 'Boise', 'Illinois':\n",
    "   'Springfield', 'Indiana': 'Indianapolis', 'Iowa': 'Des Moines', 'Kansas':\n",
    "   'Topeka', 'Kentucky': 'Frankfort', 'Louisiana': 'Baton Rouge', 'Maine':\n",
    "   'Augusta', 'Maryland': 'Annapolis', 'Massachusetts': 'Boston', 'Michigan':\n",
    "   'Lansing', 'Minnesota': 'Saint Paul', 'Mississippi': 'Jackson', 'Missouri':\n",
    "   'Jefferson City', 'Montana': 'Helena', 'Nebraska': 'Lincoln', 'Nevada':\n",
    "   'Carson City', 'New Hampshire': 'Concord', 'New Jersey': 'Trenton', 'New \\\n",
    "   Mexico': 'Santa Fe', 'New York': 'Albany',\n",
    "   'North Carolina': 'Raleigh', 'North Dakota': 'Bismarck', 'Ohio': 'Columbus', 'Oklahoma': 'Oklahoma City',\n",
    "   'Oregon': 'Salem', 'Pennsylvania': 'Harrisburg', 'Rhode Island': 'Providence',\n",
    "   'South Carolina': 'Columbia', 'South Dakota': 'Pierre', 'Tennessee':\n",
    "   'Nashville', 'Texas': 'Austin', 'Utah': 'Salt Lake City', 'Vermont':\n",
    "   'Montpelier', 'Virginia': 'Richmond', 'Washington': 'Olympia', 'West \\\n",
    "   Virginia': 'Charleston', 'Wisconsin': 'Madison', 'Wyoming': 'Cheyenne'}\n",
    "\n",
    "   # Generate 35 quiz files.\n",
    "for quizNum in range(3):\n",
    "    filename = 'quiz'+str(quizNum+1)+'.txt'\n",
    "    quiz = open(filename, 'w')\n",
    "    answer = open(f'answers {quizNum+1}.txt', 'w')\n",
    "    quiz.write('Name:\\nClass:\\n')\n",
    "    quiz.write(f'State quiz {quizNum+1}\\n')\n",
    "    states = list(capitals.keys())\n",
    "    print(filename)\n",
    "    random.shuffle(states)\n",
    "    for num in range (50):\n",
    "        correct = capitals[states[num]]\n",
    "        wrong = list(capitals.values())\n",
    "        del wrong[wrong.index(correct)]\n",
    "        wrong = random.sample(wrong, 3)\n",
    "        answer_options = wrong + [correct]\n",
    "        random.shuffle(answer_options)\n",
    "        quiz.write(f\"{num+1}. {states[num]}'s capital:\\n\")\n",
    "        for i in range(4):\n",
    "            quiz.write(f\"{'ABCD'[i]}.{answer_options[i]}\\n\")\n",
    "        answer.write(f\"{num+1}.{'ABCD'[answer_options.index(correct)]}\\n\")\n",
    "    \n",
    "\n",
    "    \n",
    "    \n",
    "    "
   ]
  },
  {
   "cell_type": "code",
   "execution_count": null,
   "metadata": {},
   "outputs": [],
   "source": [
    "#! python3\n",
    "\n",
    "import shelve, pyperclip, sys\n",
    "mcbShelf = shelve.open('mcb')\n",
    "if len(sys.argv) == 3 and sys.argv[1].lower() == 'save':\n",
    "    mcbShelf[sys.argv[2]] = pyperclip.paste()\n",
    "elif len(sys.argv) == 3 and sys.argv[1].lower() == 'delete':\n",
    "    del mcbShelf[sys.argv[2]]\n",
    "    pyperclip.copy('')\n",
    "elif len(sys.argv) == 2:\n",
    "    if sys.argv[1].lower() == 'list':\n",
    "        pyperclip.copy(str(list(mcbShelf.keys())))\n",
    "    elif sys.argv[1].lower() == 'delete':\n",
    "        mcbShelf.clear()\n",
    "        pyperclip.copy('')\n",
    "    elif sys.argv[1] in mcbShelf:\n",
    "        pyperclip.copy(mcbShelf[sys.argv[1]])\n",
    "    elif sys.argv[1] not in mcbShelf:\n",
    "        pyperclip.copy('no such key')\n",
    "mcbShelf.close()"
   ]
  },
  {
   "cell_type": "code",
   "execution_count": 14,
   "metadata": {},
   "outputs": [
    {
     "name": "stdout",
     "output_type": "stream",
     "text": [
      "[]\n",
      "[]\n",
      "['Colorado', 'Columbus', 'City', 'Charleston', 'Carolina', 'California', 'Carolina', 'Columbia', 'Connecticut', 'Concord', 'City', 'Cheyenne']\n",
      "['Class', 'Carolina', 'Charleston', 'City', 'Columbia', 'City', 'Carson', 'City', 'Concord', 'City', 'City', 'California', 'Charleston', 'Cheyenne', 'City', 'Concord', 'Carson', 'City', 'Cheyenne', 'Carson', 'City', 'Cheyenne', 'Columbia', 'Columbus', 'City', 'Concord', 'City', 'Connecticut', 'City', 'Carson', 'City', 'Carson', 'City', 'Columbus', 'City', 'City', 'Cheyenne', 'Charleston', 'City', 'Columbus', 'Carolina', 'Columbia', 'City', 'Columbus', 'Carson', 'City', 'Charleston', 'City', 'City', 'Carolina', 'Columbia', 'City', 'Concord', 'City', 'City', 'City', 'Colorado', 'City', 'City', 'Concord']\n",
      "['Class', 'City', 'City', 'Carson', 'City', 'Colorado', 'Concord', 'Cheyenne', 'City', 'California', 'Columbia', 'Charleston', 'Columbia', 'Columbus', 'Concord', 'City', 'City', 'Columbia', 'Columbus', 'Charleston', 'Cheyenne', 'City', 'Columbia', 'Carson', 'City', 'City', 'City', 'City', 'Cheyenne', 'Carolina', 'City', 'Carson', 'City', 'Columbia', 'Charleston', 'Concord', 'City', 'Carson', 'City', 'Carolina', 'Connecticut', 'City', 'City', 'Cheyenne', 'City', 'Cheyenne']\n",
      "['Class', 'Columbus', 'Charleston', 'Columbus', 'City', 'Cheyenne', 'Cheyenne', 'City', 'Concord', 'Concord', 'Connecticut', 'Charleston', 'Carolina', 'Concord', 'City', 'City', 'Charleston', 'Concord', 'Columbia', 'Carson', 'City', 'Charleston', 'Carson', 'City', 'Concord', 'Columbus', 'Colorado', 'City', 'Concord', 'Columbus', 'California', 'City', 'City', 'Carolina', 'Columbia', 'Columbus', 'Cheyenne', 'Columbia', 'City', 'Charleston', 'Carson', 'City', 'Cheyenne', 'Cheyenne']\n"
     ]
    }
   ],
   "source": [
    "import re\n",
    "\n",
    "word =  re.compile(r'C[\\w]+')\n",
    "p = Path.cwd()\n",
    "files = list(p.glob('*txt'))\n",
    "#print(files)\n",
    "for i in range(len(files)):\n",
    "    with open(files[i]) as f:\n",
    "        content = f.read()\n",
    "        t = word.findall(content)\n",
    "        print(t)"
   ]
  },
  {
   "cell_type": "code",
   "execution_count": null,
   "metadata": {},
   "outputs": [],
   "source": [
    "\n",
    "\n",
    "\n",
    "\n",
    "\n",
    "\n",
    "\n",
    "\n",
    "\n",
    "\n",
    "\n",
    "\n",
    "\n",
    "\n",
    "\n",
    "\n",
    "\n",
    "\n",
    "\n",
    "\n",
    "\n",
    "\n",
    "\n"
   ]
  }
 ],
 "metadata": {
  "kernelspec": {
   "display_name": "Python [conda env:root] *",
   "language": "python",
   "name": "conda-root-py"
  },
  "language_info": {
   "codemirror_mode": {
    "name": "ipython",
    "version": 3
   },
   "file_extension": ".py",
   "mimetype": "text/x-python",
   "name": "python",
   "nbconvert_exporter": "python",
   "pygments_lexer": "ipython3",
   "version": "3.7.6"
  }
 },
 "nbformat": 4,
 "nbformat_minor": 4
}
