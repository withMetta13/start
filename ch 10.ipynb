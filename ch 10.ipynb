{
 "cells": [
  {
   "cell_type": "code",
   "execution_count": 8,
   "metadata": {},
   "outputs": [
    {
     "data": {
      "text/plain": [
       "WindowsPath('C:/Users/Bill/pyscripts/copy1.txt')"
      ]
     },
     "execution_count": 8,
     "metadata": {},
     "output_type": "execute_result"
    }
   ],
   "source": [
    "import shutil, os\n",
    "from pathlib import Path\n",
    "p = Path.cwd()\n",
    "shutil.copy(p/'answers 1.txt', Path.home()/'pyscripts/copy1.txt')"
   ]
  },
  {
   "cell_type": "code",
   "execution_count": 10,
   "metadata": {},
   "outputs": [
    {
     "data": {
      "text/plain": [
       "WindowsPath('C:/Users/Bill/pyscripts/backup')"
      ]
     },
     "execution_count": 10,
     "metadata": {},
     "output_type": "execute_result"
    }
   ],
   "source": [
    "shutil.copytree(p, Path.home()/'pyscripts/backup')"
   ]
  },
  {
   "cell_type": "code",
   "execution_count": 25,
   "metadata": {},
   "outputs": [],
   "source": [
    "Path.home()\n",
    "#shutil.move('C:/Users/Bill/pyscripts/backup/quiz2.txt', 'c:/nosuch/pyscripts/dir')\n",
    "#os.unlink('C:/Users/Bill/pyscripts/dir')"
   ]
  },
  {
   "cell_type": "code",
   "execution_count": 30,
   "metadata": {},
   "outputs": [],
   "source": [
    "import send2trash\n",
    "f = open('a.txt','a')\n",
    "f.write('fff')\n",
    "f.close()\n",
    "send2trash.send2trash('a.txt')"
   ]
  },
  {
   "cell_type": "code",
   "execution_count": 49,
   "metadata": {},
   "outputs": [],
   "source": [
    "os.chdir('d:/')\n",
    "Path.cwd()\n",
    "send2trash.send2trash('test-file.txt')\n",
    "#help(send2trash.send2trash)"
   ]
  },
  {
   "cell_type": "code",
   "execution_count": 51,
   "metadata": {},
   "outputs": [
    {
     "name": "stdout",
     "output_type": "stream",
     "text": [
      "The current folder is C:/Users/Bill/pyscripts/backup\n",
      "SUBFOLDER OF C:/Users/Bill/pyscripts/backup: .ipynb_checkpoints\n",
      "SUBFOLDER OF C:/Users/Bill/pyscripts/backup: __pycache__\n",
      "FILE INSIDE C:/Users/Bill/pyscripts/backup: cats.py\n",
      "FILE INSIDE C:/Users/Bill/pyscripts/backup: ch 10.ipynb\n",
      "FILE INSIDE C:/Users/Bill/pyscripts/backup: ch 7.ipynb\n",
      "FILE INSIDE C:/Users/Bill/pyscripts/backup: ch 8.ipynb\n",
      "FILE INSIDE C:/Users/Bill/pyscripts/backup: ch 9.ipynb\n",
      "FILE INSIDE C:/Users/Bill/pyscripts/backup: mcb.bak\n",
      "FILE INSIDE C:/Users/Bill/pyscripts/backup: mcb.dat\n",
      "FILE INSIDE C:/Users/Bill/pyscripts/backup: mcb.dir\n",
      "FILE INSIDE C:/Users/Bill/pyscripts/backup: mcb.pyw\n",
      "FILE INSIDE C:/Users/Bill/pyscripts/backup: quiz2.txt\n",
      "FILE INSIDE C:/Users/Bill/pyscripts/backup: quiz3.txt\n",
      "\n",
      "The current folder is C:/Users/Bill/pyscripts/backup\\.ipynb_checkpoints\n",
      "FILE INSIDE C:/Users/Bill/pyscripts/backup\\.ipynb_checkpoints: ch 10-checkpoint.ipynb\n",
      "FILE INSIDE C:/Users/Bill/pyscripts/backup\\.ipynb_checkpoints: ch 7-checkpoint.ipynb\n",
      "FILE INSIDE C:/Users/Bill/pyscripts/backup\\.ipynb_checkpoints: ch 8-checkpoint.ipynb\n",
      "FILE INSIDE C:/Users/Bill/pyscripts/backup\\.ipynb_checkpoints: ch 9-checkpoint.ipynb\n",
      "\n",
      "The current folder is C:/Users/Bill/pyscripts/backup\\__pycache__\n",
      "FILE INSIDE C:/Users/Bill/pyscripts/backup\\__pycache__: cats.cpython-37.pyc\n",
      "\n"
     ]
    },
    {
     "data": {
      "text/plain": [
       "<generator object walk at 0x000002B505804AC8>"
      ]
     },
     "execution_count": 51,
     "metadata": {},
     "output_type": "execute_result"
    }
   ],
   "source": [
    "p = 'C:/Users/Bill/pyscripts/backup'\n",
    "\n",
    "for folderName, subfolders, filenames in os.walk(p):\n",
    "    print('The current folder is ' + folderName)\n",
    "\n",
    "    for subfolder in subfolders:\n",
    "        print('SUBFOLDER OF ' + folderName + ': ' + subfolder)\n",
    "\n",
    "    for filename in filenames:\n",
    "        print('FILE INSIDE ' + folderName + ': '+ filename)\n",
    "\n",
    "    print('')\n"
   ]
  },
  {
   "cell_type": "code",
   "execution_count": 52,
   "metadata": {},
   "outputs": [
    {
     "name": "stdout",
     "output_type": "stream",
     "text": [
      "('C:/Users/Bill/pyscripts/backup', ['.ipynb_checkpoints', '__pycache__'], ['cats.py', 'ch 10.ipynb', 'ch 7.ipynb', 'ch 8.ipynb', 'ch 9.ipynb', 'mcb.bak', 'mcb.dat', 'mcb.dir', 'mcb.pyw', 'quiz2.txt', 'quiz3.txt'])\n",
      "('C:/Users/Bill/pyscripts/backup\\\\.ipynb_checkpoints', [], ['ch 10-checkpoint.ipynb', 'ch 7-checkpoint.ipynb', 'ch 8-checkpoint.ipynb', 'ch 9-checkpoint.ipynb'])\n",
      "('C:/Users/Bill/pyscripts/backup\\\\__pycache__', [], ['cats.cpython-37.pyc'])\n"
     ]
    }
   ],
   "source": [
    "for ele in os.walk(p):\n",
    "    print(ele)"
   ]
  },
  {
   "cell_type": "code",
   "execution_count": 58,
   "metadata": {},
   "outputs": [],
   "source": [
    "os.chdir('d:/notebooks/00reference/06automate the boring stuff with python')"
   ]
  },
  {
   "cell_type": "code",
   "execution_count": 70,
   "metadata": {},
   "outputs": [
    {
     "data": {
      "text/plain": [
       "['birthdays.py']"
      ]
     },
     "execution_count": 70,
     "metadata": {},
     "output_type": "execute_result"
    }
   ],
   "source": [
    "import zipfile\n",
    "example = zipfile.ZipFile('zipfile.zip')\n",
    "example.namelist()\n",
    "info = example.getinfo('birthdays.py')\n",
    "info.file_size\n",
    "info.compress_size\n",
    "example.extractall()\n",
    "newzip = zipfile.ZipFile('new_zip','w')\n",
    "newzip.write('birthdays.py', compress_type=zipfile.ZIP_DEFLATED)\n",
    "example2 = zipfile.ZipFile('new_zip')\n",
    "example2.namelist()"
   ]
  },
  {
   "cell_type": "code",
   "execution_count": 114,
   "metadata": {},
   "outputs": [],
   "source": [
    "newzip = zipfile.ZipFile('new_zip1.zip','a')\n",
    "p = 'C:/Users/Bill/pyscripts/backup'\n",
    "newzip.write(p)\n",
    "newzip.write(p+'/quiz2.txt', compress_type=zipfile.ZIP_DEFLATED)\n",
    "newzip.write(p+'/quiz3.txt', compress_type=zipfile.ZIP_DEFLATED)\n",
    "\n",
    "# 'a'means create a new file, not everwrite the file"
   ]
  },
  {
   "cell_type": "code",
   "execution_count": 87,
   "metadata": {},
   "outputs": [
    {
     "name": "stdout",
     "output_type": "stream",
     "text": [
      "04-03-2010.txt\n",
      "25-12-2009.txt\n"
     ]
    }
   ],
   "source": [
    "import re\n",
    "pattern = re.compile(r'^(.*?)([01]?[0-9])-([0-3]?\\d)-([12]\\d{3})(.*?)$')\n",
    "p = Path.cwd()\n",
    "for filename in os.listdir('.'):\n",
    "    mo = pattern.search(filename)\n",
    "    if mo == None:\n",
    "        continue\n",
    "    part1 =  mo.group(1)\n",
    "    part2 =  mo.group(2)\n",
    "    part3 =  mo.group(3)\n",
    "    part4 =  mo.group(4)\n",
    "    part5 =  mo.group(5)\n",
    "    new_name = part1 + part3 + '-' + part2 + '-' + part4 + part5 \n",
    "    print(new_name)\n",
    "    shutil.move('./'+filename, './'+new_name)\n",
    "    "
   ]
  },
  {
   "cell_type": "code",
   "execution_count": 110,
   "metadata": {},
   "outputs": [
    {
     "name": "stdout",
     "output_type": "stream",
     "text": [
      "creating 06automate the boring stuff with python_3.zip\n",
      "adding files in d:\\notebooks\\00reference\\06automate the boring stuff with python\n",
      "adding files in d:\\notebooks\\00reference\\06automate the boring stuff with python\\.ipynb_checkpoints\n",
      "adding files in d:\\notebooks\\00reference\\06automate the boring stuff with python\\__pycache__\n"
     ]
    }
   ],
   "source": [
    "def backupToZip(folder):\n",
    "    folder = os.path.abspath(folder)\n",
    "    number = 1\n",
    "    while True:\n",
    "        zipName = os.path.basename(folder)+'_'+str(number)+'.zip'\n",
    "        if not os.path.exists(zipName):\n",
    "            break\n",
    "        number = number + 1\n",
    "    print(f'creating {zipName}')\n",
    "    backupzip = zipfile.ZipFile(zipName, 'w')\n",
    "    for foldername, subfolders, filenames in os.walk(folder):\n",
    "        print(f'adding files in {foldername}')\n",
    "        backupzip.write(foldername)\n",
    "        for filename in filenames:\n",
    "            newBase = os.path.basename(folder)+'_'\n",
    "            if filename.startswith(newBase) and filename.endswith('.zip'):\n",
    "                continue\n",
    "            backupzip.write(os.path.join(foldername, filename))\n",
    "        \n",
    "backupToZip('.')"
   ]
  },
  {
   "cell_type": "code",
   "execution_count": 90,
   "metadata": {},
   "outputs": [
    {
     "data": {
      "text/plain": [
       "'.'"
      ]
     },
     "execution_count": 90,
     "metadata": {},
     "output_type": "execute_result"
    }
   ],
   "source": [
    "os.path.abspath('.')\n",
    "os.path.basename('.')"
   ]
  },
  {
   "cell_type": "code",
   "execution_count": 139,
   "metadata": {},
   "outputs": [
    {
     "name": "stdout",
     "output_type": "stream",
     "text": [
      "('04-03-2010.txt',)\n",
      "('25-12-2009.txt',)\n",
      "('answers 1.txt',)\n",
      "('answers 2.txt',)\n",
      "('quiz1.txt',)\n",
      "('quiz2.txt',)\n",
      "('quiz3.txt',)\n"
     ]
    }
   ],
   "source": [
    "r = re.compile(r'(.*\\.txt)')\n",
    "for file in os.listdir('.'):\n",
    "    mo = r.search(file)\n",
    "    if mo == None:\n",
    "        continue\n",
    "    else:\n",
    "        print(mo.groups())\n",
    "        shutil.copy('./'+mo.group(1), '../'+mo.group(1))"
   ]
  },
  {
   "cell_type": "code",
   "execution_count": 157,
   "metadata": {},
   "outputs": [
    {
     "name": "stdout",
     "output_type": "stream",
     "text": [
      "('C:\\\\Users\\\\Bill\\\\Desktop\\\\python', ['Python编程快速上手（第2版）配套资源 全套', 'to-do'], ['Python编程快速上手.pdf', 'regex cheatsheet.png', 'thinkpython2.pdf', '人人都能用英语(Everybody.can.use.English)李笑来.pdf', '像计算机科学家一样思考Python.pdf'])\n",
      "('C:\\\\Users\\\\Bill\\\\Desktop\\\\python\\\\Python编程快速上手（第2版）配套资源 全套', ['9.源代码文件'], ['11.程序员面试手册.pdf', '4.Python编程快速上手 第2版 思维导图.pdf', '5.Python排障手册.pdf', '6.习题答案.pdf', '8.异步图书Python学习路线.pdf'])\n",
      "('C:\\\\Users\\\\Bill\\\\Desktop\\\\python\\\\Python编程快速上手（第2版）配套资源 全套\\\\9.源代码文件', ['automate_online-materials'], [])\n",
      "('C:\\\\Users\\\\Bill\\\\Desktop\\\\python\\\\Python编程快速上手（第2版）配套资源 全套\\\\9.源代码文件\\\\automate_online-materials', [], ['abcdCallStack.py', 'alarm.wav', 'allMyCats1.py', 'allMyCats2.py', 'automate-linux-requirements.txt', 'automate-mac-requirements.txt', 'automate-win-requirements.txt', 'backupToZip.py', 'birthdays.py', 'boxPrint.py', 'buggyAddingProgram.py', 'bulletPointAdder.py', 'calcProd.py', 'catlogo.png', 'catnapping.py', 'census2010.py', 'censuspopdata.xlsx', 'characterCount.py', 'coinFlip.py', 'combinedminutes.pdf', 'combinePdfs.py', 'convertWordToPDF.py', 'conway.py', 'countdown.py', 'demo.docx', 'dictionary.txt', 'dimensions.xlsx', 'downloadXkcd.py', 'duesRecords.xlsx', 'encrypted.pdf', 'encryptedminutes.pdf', 'errorExample.py', 'example.csv', 'example.html', 'example.xlsx', 'example.zip', 'exampleWithHeader.csv', 'excelSpreadsheets.zip', 'exitExample.py', 'factorialLog.py', 'fiveTimes.py', 'formFiller.py', 'freezeExample.xlsx', 'getDocxText.py', 'getOpenWeather.py', 'globalStatement.py', 'guessTheNumber.py', 'guests.txt', 'headings.docx', 'hello.py', 'helloFunc.py', 'helloFunc2.py', 'helloworld.docx', 'idiot.py', 'infiniteLoop.py', 'inventory.py', 'isPhoneNumber.py', 'littleKid.py', 'localGlobalSameName.py', 'lucky.py', 'magic8Ball.py', 'magic8Ball2.py', 'mapIt.py', 'mcb.pyw', 'meetingminutes.pdf', 'meetingminutes2.pdf', 'merged.xlsx', 'mouseNow.py', 'mouseNow2.py', 'multidownloadXkcd.py', 'multipleParagraphs.docx', 'multiplicationquiz.py', 'myPets.py', 'myZombie.py', 'passingReference.py', 'phoneAndEmail.py', 'picnicTable.py', 'prettyCharacterCount.py', 'printRandom.py', 'produceSales.xlsx', 'pw.py', 'randomQuizGenerator.py', 'readCensusExcel.py', 'readDocx.py', 'removeCsvHeader.py', 'removeCsvHeader.zip', 'renameDates.py', 'resizeAndAddLogo.py', 'restyled.docx', 'rpsGame.py', 'sameName.py', 'sameName2.py', 'sameName3.py', 'sameName4.py', 'sameNameError.py', 'sameNameLocalGlobal.py', 'sampleChart.xlsx', 'searchpypi.py', 'sendDuesReminders.py', 'spiralDraw.py', 'stopwatch.py', 'styled.xlsx', 'styles.xlsx', 'swordfish.py', 'textMyself.py', 'threadDemo.py', 'threadedDownloadXkcd.py', 'ticTacToe.py', 'tictactoe_complete.py', 'twoPage.docx', 'updatedProduceSales.xlsx', 'updateProduce.py', 'validateInput.py', 'vampire.py', 'vampire2.py', 'watermark.pdf', 'yourname.py', 'yourname2.py', 'zeroDivide.py', 'zigzag.py', 'zophie.png'])\n",
      "('C:\\\\Users\\\\Bill\\\\Desktop\\\\python\\\\to-do', ['python学习路线图'], ['Dive Into Python 3中文版.pdf', 'Effective+Python.编写高质量Python代码的59个有效方法.Brett+Slatkin.pdf', 'Flask Web开发：基于Python的Web应用开发实战.pdf', 'pandas官方文档中文版.pdf', 'progit.pdf', 'PyCharm 中文指南（Win版）v2.0.pdf', 'PyQt5快速开发与实战.pdf', 'Python 3网络爬虫开发实战_崔庆才.pdf', 'Python QT GUI快速编程 PYQT编程指南.pdf', 'Python3（廖雪峰）.pdf', 'Python之路V2.0.pdf', 'Python入门经典_以解决计算问题为导向的Python编程.pdf', 'python基础学习文档.pdf', 'Python学习手册(第4版).pdf', 'Python技术参考大全.pdf', 'Python数据可视化编程实战.pdf', 'Python最佳实践指南.pdf', 'Python极客项目编程.pdf', 'Python核心编程(第二版).pdf', 'Python游戏编程快速上手第4版.pdf', 'Python源码剖析.pdf', 'Python知识手册-V3.0.pdf', 'Python科学计算基础教程.pdf', 'Python编程从入门到实践.pdf', 'Python编程快速上手 让繁琐工作自动化.pdf', 'Python网络数据采集.pdf', 'Python网络编程基础.pdf', 'python自动化系列2.0.pdf', 'Python袖珍指南  第5版.pdf', 'Python计算机视觉编程.pdf', 'Python语言入门.pdf', 'Python高级编程.pdf', 'Python黑客攻防入门.pdf', '《Python编程快速上手-让繁琐工作自动化》.pdf', '《Python进阶》.pdf', '从Python开始学编程.pdf', '利用Python进行数据分析(第二版).pdf', '流畅的Python.pdf', '深入Python3.pdf', '深入浅出深度学习：原理剖析与python实践_黄安埠(著).pdf', '深度学习_中文版.pdf', '简明python教程.pdf', '阿里云盘.lnk'])\n",
      "('C:\\\\Users\\\\Bill\\\\Desktop\\\\python\\\\to-do\\\\python学习路线图', [], ['python学习路线图.png'])\n"
     ]
    }
   ],
   "source": [
    "p =Path('C:/Users/Bill/Desktop/python')\n",
    "for ele in os.walk(p):\n",
    "    print(ele)\n",
    "    "
   ]
  },
  {
   "cell_type": "code",
   "execution_count": 166,
   "metadata": {},
   "outputs": [
    {
     "name": "stdout",
     "output_type": "stream",
     "text": [
      "C:\\Users\\Bill\\Desktop\\python\\to-do\\Python QT GUI快速编程 PYQT编程指南.pdf: 104179731\n",
      "C:\\Users\\Bill\\Desktop\\python\\to-do\\Python核心编程(第二版).pdf: 148764723\n"
     ]
    }
   ],
   "source": [
    "for dirnames, subnames, filenames in os.walk(p):\n",
    "    for filename in filenames:\n",
    "        path = os.path.join(dirnames, filename)\n",
    "        if os.path.getsize(path) > 10**8:\n",
    "            print(path+': '+str(os.path.getsize(path)))"
   ]
  },
  {
   "cell_type": "code",
   "execution_count": 181,
   "metadata": {},
   "outputs": [],
   "source": [
    "pattern = re.compile(r'((.*quiz)(\\d)(.*))')\n",
    "num = 1\n",
    "for file in os.listdir('.'):\n",
    "    mo = pattern.search(file)\n",
    "    if mo == None:\n",
    "        continue\n",
    "    else:\n",
    "        shutil.move('./'+mo.group(1),'./'+mo.group(2)+str(num)+mo.group(4))\n",
    "        num += 1\n",
    "\n",
    "\n",
    "    \n",
    "    \n",
    "\n"
   ]
  }
 ],
 "metadata": {
  "kernelspec": {
   "display_name": "Python [conda env:root] *",
   "language": "python",
   "name": "conda-root-py"
  },
  "language_info": {
   "codemirror_mode": {
    "name": "ipython",
    "version": 3
   },
   "file_extension": ".py",
   "mimetype": "text/x-python",
   "name": "python",
   "nbconvert_exporter": "python",
   "pygments_lexer": "ipython3",
   "version": "3.7.6"
  }
 },
 "nbformat": 4,
 "nbformat_minor": 4
}
